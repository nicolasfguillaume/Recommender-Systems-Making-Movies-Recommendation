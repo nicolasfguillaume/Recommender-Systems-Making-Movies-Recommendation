{
 "cells": [
  {
   "cell_type": "markdown",
   "metadata": {},
   "source": [
    "# Recommender System with Collaborative filtering algorithm (MovieLens 100k dataset)\n",
    "\n",
    "MovieLens dataset - a classic dataset for training recommendation models. It can be obtained from the GroupLens website. There are various datasets, but the one that I will use below consists of 100,000 movie ratings by users (on a 1-5 scale). The main data file consists of a tab-separated list with user-id (starting at 1), item-id (starting at 1), rating, and timestamp as the four fields."
   ]
  },
  {
   "cell_type": "markdown",
   "metadata": {},
   "source": [
    "# I. Loading the dataset"
   ]
  },
  {
   "cell_type": "code",
   "execution_count": 2,
   "metadata": {
    "collapsed": true
   },
   "outputs": [],
   "source": [
    "import pandas as pd\n",
    "import numpy as np\n",
    "from sklearn.preprocessing import LabelEncoder\n",
    "from sklearn.cross_validation import KFold\n",
    "from sklearn.ensemble import RandomForestRegressor\n",
    "from sklearn.grid_search import GridSearchCV\n",
    "import matplotlib.pyplot as plt\n",
    "# for interactive inline plots\n",
    "#%matplotlib notebook  \n",
    "# for simple inline plots\n",
    "%matplotlib inline \n",
    "import seaborn as sns\n",
    "import time, math\n",
    "#from IPython.display import display"
   ]
  },
  {
   "cell_type": "code",
   "execution_count": 3,
   "metadata": {
    "collapsed": false
   },
   "outputs": [],
   "source": [
    "# Loading ratings\n",
    "names = ['user_id', 'item_id', 'rating', 'timestamp']\n",
    "ratings_df = pd.read_csv('ml-100k/u.data', sep='\\t', names=names)\n",
    "\n",
    "# Loading movies info\n",
    "item_info = pd.read_csv('ml-100k/u.item', sep='|', header=None, usecols=[1])   # Information about the items (keeps only movie's name)\n",
    "item_info.columns = ['title']"
   ]
  },
  {
   "cell_type": "markdown",
   "metadata": {},
   "source": [
    "# II. Descriptive analysis"
   ]
  },
  {
   "cell_type": "code",
   "execution_count": 4,
   "metadata": {
    "collapsed": false
   },
   "outputs": [
    {
     "data": {
      "text/html": [
       "<div>\n",
       "<table border=\"1\" class=\"dataframe\">\n",
       "  <thead>\n",
       "    <tr style=\"text-align: right;\">\n",
       "      <th></th>\n",
       "      <th>user_id</th>\n",
       "      <th>item_id</th>\n",
       "      <th>rating</th>\n",
       "      <th>timestamp</th>\n",
       "    </tr>\n",
       "  </thead>\n",
       "  <tbody>\n",
       "    <tr>\n",
       "      <th>0</th>\n",
       "      <td>196</td>\n",
       "      <td>242</td>\n",
       "      <td>3</td>\n",
       "      <td>881250949</td>\n",
       "    </tr>\n",
       "    <tr>\n",
       "      <th>1</th>\n",
       "      <td>186</td>\n",
       "      <td>302</td>\n",
       "      <td>3</td>\n",
       "      <td>891717742</td>\n",
       "    </tr>\n",
       "    <tr>\n",
       "      <th>2</th>\n",
       "      <td>22</td>\n",
       "      <td>377</td>\n",
       "      <td>1</td>\n",
       "      <td>878887116</td>\n",
       "    </tr>\n",
       "    <tr>\n",
       "      <th>3</th>\n",
       "      <td>244</td>\n",
       "      <td>51</td>\n",
       "      <td>2</td>\n",
       "      <td>880606923</td>\n",
       "    </tr>\n",
       "    <tr>\n",
       "      <th>4</th>\n",
       "      <td>166</td>\n",
       "      <td>346</td>\n",
       "      <td>1</td>\n",
       "      <td>886397596</td>\n",
       "    </tr>\n",
       "  </tbody>\n",
       "</table>\n",
       "</div>"
      ],
      "text/plain": [
       "   user_id  item_id  rating  timestamp\n",
       "0      196      242       3  881250949\n",
       "1      186      302       3  891717742\n",
       "2       22      377       1  878887116\n",
       "3      244       51       2  880606923\n",
       "4      166      346       1  886397596"
      ]
     },
     "execution_count": 4,
     "metadata": {},
     "output_type": "execute_result"
    }
   ],
   "source": [
    "ratings_df.head()"
   ]
  },
  {
   "cell_type": "code",
   "execution_count": 5,
   "metadata": {
    "collapsed": false
   },
   "outputs": [
    {
     "data": {
      "text/plain": [
       "(100000, 4)"
      ]
     },
     "execution_count": 5,
     "metadata": {},
     "output_type": "execute_result"
    }
   ],
   "source": [
    "ratings_df.shape"
   ]
  },
  {
   "cell_type": "code",
   "execution_count": 6,
   "metadata": {
    "collapsed": false
   },
   "outputs": [
    {
     "name": "stdout",
     "output_type": "stream",
     "text": [
      "943 users\n",
      "1682 items\n"
     ]
    }
   ],
   "source": [
    "n_users = len(ratings_df['user_id'].unique())\n",
    "n_items = len(ratings_df['item_id'].unique())\n",
    "R_shape = (n_users, n_items)\n",
    "print str(n_users) + ' users'\n",
    "print str(n_items) + ' items'"
   ]
  },
  {
   "cell_type": "markdown",
   "metadata": {},
   "source": [
    "943 users gave ratings to 1682 movies. There are 100,000 ratings in total."
   ]
  },
  {
   "cell_type": "code",
   "execution_count": 11,
   "metadata": {
    "collapsed": false
   },
   "outputs": [
    {
     "data": {
      "text/plain": [
       "count    100000.000000\n",
       "mean          3.529860\n",
       "std           1.125674\n",
       "min           1.000000\n",
       "25%           3.000000\n",
       "50%           4.000000\n",
       "75%           4.000000\n",
       "max           5.000000\n",
       "Name: rating, dtype: float64"
      ]
     },
     "execution_count": 11,
     "metadata": {},
     "output_type": "execute_result"
    }
   ],
   "source": [
    "ratings_df['rating'].describe()"
   ]
  },
  {
   "cell_type": "markdown",
   "metadata": {},
   "source": [
    "The average rating is 3.52 on a scale from 1.0 to 5.0, with a standard deviation of 1.12. The median rating is 4.0."
   ]
  },
  {
   "cell_type": "markdown",
   "metadata": {},
   "source": [
    "##### Visualizing ratings distribution"
   ]
  },
  {
   "cell_type": "code",
   "execution_count": 78,
   "metadata": {
    "collapsed": false
   },
   "outputs": [
    {
     "data": {
      "text/plain": [
       "<matplotlib.text.Text at 0x4e7cf550>"
      ]
     },
     "execution_count": 78,
     "metadata": {},
     "output_type": "execute_result"
    },
    {
     "data": {
      "image/png": "[encoded data removed]",
      "text/plain": [
       "<matplotlib.figure.Figure at 0x471c7080>"
      ]
     },
     "metadata": {},
     "output_type": "display_data"
    }
   ],
   "source": [
    "ratings_df['rating'].hist(grid=True)\n",
    "plt.xlabel('Rating')\n",
    "plt.ylabel('Frequency')\n",
    "plt.title('Distribution of ratings')"
   ]
  },
  {
   "cell_type": "markdown",
   "metadata": {},
   "source": [
    "##### Visualizing ratings after normalization"
   ]
  },
  {
   "cell_type": "code",
   "execution_count": 90,
   "metadata": {
    "collapsed": false
   },
   "outputs": [
    {
     "data": {
      "text/plain": [
       "<matplotlib.text.Text at 0x50c36898>"
      ]
     },
     "execution_count": 90,
     "metadata": {},
     "output_type": "execute_result"
    },
    {
     "data": {
      "image/png": "[encoded data removed]",
      "text/plain": [
       "<matplotlib.figure.Figure at 0x5149b7f0>"
      ]
     },
     "metadata": {},
     "output_type": "display_data"
    }
   ],
   "source": [
    "from sklearn.preprocessing import scale\n",
    "binwidth = 0.8\n",
    "data = scale(ratings_df['rating'].astype(float))\n",
    "plt.hist(data, bins=np.arange(min(data), max(data) + binwidth, binwidth))    # Z-score normalization\n",
    "plt.xlabel('Normalized rating')\n",
    "plt.ylabel('Frequency')\n",
    "plt.title('Distribution of normalized ratings')"
   ]
  },
  {
   "cell_type": "markdown",
   "metadata": {},
   "source": [
    "##### How many movies did people rate on average?"
   ]
  },
  {
   "cell_type": "code",
   "execution_count": 75,
   "metadata": {
    "collapsed": false
   },
   "outputs": [
    {
     "data": {
      "text/plain": [
       "<matplotlib.text.Text at 0x4d127860>"
      ]
     },
     "execution_count": 75,
     "metadata": {},
     "output_type": "execute_result"
    },
    {
     "data": {
      "image/png": "[encoded data removed]",
      "text/plain": [
       "<matplotlib.figure.Figure at 0x4e0fd438>"
      ]
     },
     "metadata": {},
     "output_type": "display_data"
    }
   ],
   "source": [
    "df = pd.DataFrame(R).replace('0', np.nan).count(axis=1)  # count number of ratings per user\n",
    "binwidth = 10\n",
    "df.hist(bins=np.arange(min(df), max(df) + binwidth, binwidth))    \n",
    "plt.xlabel('Number of ratings per user')\n",
    "plt.ylabel('Frequency')\n",
    "plt.title('Distribution of ratings count per user')"
   ]
  },
  {
   "cell_type": "markdown",
   "metadata": {},
   "source": [
    "It appears that most of users rated less than 50 movies."
   ]
  },
  {
   "cell_type": "markdown",
   "metadata": {},
   "source": [
    "##### What is the mean rating of each movie?"
   ]
  },
  {
   "cell_type": "code",
   "execution_count": 87,
   "metadata": {
    "collapsed": false
   },
   "outputs": [
    {
     "data": {
      "text/plain": [
       "<matplotlib.text.Text at 0x5095ce10>"
      ]
     },
     "execution_count": 87,
     "metadata": {},
     "output_type": "execute_result"
    },
    {
     "data": {
      "image/png": "[encoded data removed]",
      "text/plain": [
       "<matplotlib.figure.Figure at 0x50a8bb38>"
      ]
     },
     "metadata": {},
     "output_type": "display_data"
    }
   ],
   "source": [
    "df = pd.DataFrame(R).replace('0', np.nan).mean(axis=0)   # average of ratings per movie\n",
    "binwidth = .1\n",
    "df.hist(bins=np.arange(min(df), max(df) + binwidth, binwidth))    \n",
    "plt.xlabel('Average Rating per user')\n",
    "plt.ylabel('Frequency')\n",
    "plt.title('Distribution of average rating per movie')"
   ]
  },
  {
   "cell_type": "markdown",
   "metadata": {},
   "source": [
    "The spike on '1' suggests that this could also be intepreted as binary rating.  \n",
    "In other words, some people don't want to see certain movies at all. Same on 5 and on 3."
   ]
  },
  {
   "cell_type": "markdown",
   "metadata": {},
   "source": [
    "##### Movie titles"
   ]
  },
  {
   "cell_type": "markdown",
   "metadata": {},
   "source": [
    "Showing movies title:"
   ]
  },
  {
   "cell_type": "code",
   "execution_count": 25,
   "metadata": {
    "collapsed": false
   },
   "outputs": [
    {
     "data": {
      "text/html": [
       "<div>\n",
       "<table border=\"1\" class=\"dataframe\">\n",
       "  <thead>\n",
       "    <tr style=\"text-align: right;\">\n",
       "      <th></th>\n",
       "      <th>title</th>\n",
       "    </tr>\n",
       "  </thead>\n",
       "  <tbody>\n",
       "    <tr>\n",
       "      <th>0</th>\n",
       "      <td>Toy Story (1995)</td>\n",
       "    </tr>\n",
       "    <tr>\n",
       "      <th>1</th>\n",
       "      <td>GoldenEye (1995)</td>\n",
       "    </tr>\n",
       "    <tr>\n",
       "      <th>2</th>\n",
       "      <td>Four Rooms (1995)</td>\n",
       "    </tr>\n",
       "    <tr>\n",
       "      <th>3</th>\n",
       "      <td>Get Shorty (1995)</td>\n",
       "    </tr>\n",
       "    <tr>\n",
       "      <th>4</th>\n",
       "      <td>Copycat (1995)</td>\n",
       "    </tr>\n",
       "  </tbody>\n",
       "</table>\n",
       "</div>"
      ],
      "text/plain": [
       "               title\n",
       "0   Toy Story (1995)\n",
       "1   GoldenEye (1995)\n",
       "2  Four Rooms (1995)\n",
       "3  Get Shorty (1995)\n",
       "4     Copycat (1995)"
      ]
     },
     "execution_count": 25,
     "metadata": {},
     "output_type": "execute_result"
    }
   ],
   "source": [
    "item_info.head()"
   ]
  },
  {
   "cell_type": "markdown",
   "metadata": {},
   "source": [
    "##### Defining X and y"
   ]
  },
  {
   "cell_type": "markdown",
   "metadata": {},
   "source": [
    "We can define a predictor X and a target variable y:"
   ]
  },
  {
   "cell_type": "code",
   "execution_count": 9,
   "metadata": {
    "collapsed": false
   },
   "outputs": [
    {
     "name": "stdout",
     "output_type": "stream",
     "text": [
      "X\n",
      "[[ 196  242]\n",
      " [ 186  302]\n",
      " [  22  377]\n",
      " ..., \n",
      " [ 276 1090]\n",
      " [  13  225]\n",
      " [  12  203]]\n",
      "y\n",
      "[3 3 1 ..., 1 2 3]\n"
     ]
    }
   ],
   "source": [
    "X = ratings_df[['user_id', 'item_id']].values\n",
    "y = ratings_df['rating'].values\n",
    "\n",
    "print 'X'\n",
    "print X\n",
    "print 'y'\n",
    "print y"
   ]
  },
  {
   "cell_type": "markdown",
   "metadata": {},
   "source": [
    "##### Defining a Rating matrix R\n",
    "\n",
    "Most recommendation models consist of building a user-by-item matrix with some sort of \"interaction\" number in each cell. Here, users give items numerical ratings, this is called an explicit feedback model. We can build a user-item (or rating) matrix as follows:\n",
    "\n",
    "| R           | Item #1           | ...  |  Item #n | \n",
    "| --- |  :---:  :---:       | :---: |\n",
    "| User #1      |  ... | ...  | ... |\n",
    "| ...      | ... |      ...      |   ... |\n",
    "| User #m | ... | ...     |  ... |"
   ]
  },
  {
   "cell_type": "code",
   "execution_count": 91,
   "metadata": {
    "collapsed": false
   },
   "outputs": [
    {
     "name": "stdout",
     "output_type": "stream",
     "text": [
      "[[5 3 4 ..., 0 0 0]\n",
      " [4 0 0 ..., 0 0 0]\n",
      " [0 0 0 ..., 0 0 0]\n",
      " ..., \n",
      " [5 0 0 ..., 0 0 0]\n",
      " [0 0 0 ..., 0 0 0]\n",
      " [0 5 0 ..., 0 0 0]]\n",
      "(943L, 1682L)\n"
     ]
    }
   ],
   "source": [
    "from scipy import sparse\n",
    "\n",
    "def ConvertToDense(X, y, shape):  # from R=(X,y), in sparse format \n",
    "    row  = X[:,0]\n",
    "    col  = X[:,1]\n",
    "    data = y\n",
    "    matrix_sparse = sparse.csr_matrix((data,(row,col)), shape=(shape[0]+1,shape[1]+1))  # sparse matrix in compressed format (CSR)\n",
    "    R = matrix_sparse.todense()   # convert sparse matrix to dense matrix, same as: matrix_sparse.A\n",
    "    R = R[1:,1:]                  # removing the \"Python starts at 0\" offset\n",
    "    R = np.asarray(R)             # convert matrix object to ndarray object\n",
    "    return R\n",
    "  \n",
    "n_users = len(ratings_df['user_id'].unique())\n",
    "n_items = len(ratings_df['item_id'].unique())\n",
    "R_shape = (n_users, n_items)\n",
    "\n",
    "R = ConvertToDense(X, y, R_shape)\n",
    "print R\n",
    "print R.shape"
   ]
  },
  {
   "cell_type": "code",
   "execution_count": 92,
   "metadata": {
    "collapsed": false
   },
   "outputs": [
    {
     "name": "stdout",
     "output_type": "stream",
     "text": [
      "4\n"
     ]
    }
   ],
   "source": [
    "print R[1,0]"
   ]
  },
  {
   "cell_type": "markdown",
   "metadata": {},
   "source": [
    "As expected, the rating of movie #1 from user #2 is 4. (Note that the index is shifted by 1)"
   ]
  },
  {
   "cell_type": "markdown",
   "metadata": {},
   "source": [
    "##### Computing the sparsity of R"
   ]
  },
  {
   "cell_type": "code",
   "execution_count": 93,
   "metadata": {
    "collapsed": false
   },
   "outputs": [
    {
     "name": "stdout",
     "output_type": "stream",
     "text": [
      "0.0630466936422\n"
     ]
    }
   ],
   "source": [
    "print len(R.nonzero()[0]) / float(R.shape[0] * R.shape[1])"
   ]
  },
  {
   "cell_type": "markdown",
   "metadata": {},
   "source": [
    "Sparsity is 6.3%. This means that 6.3% of the user-item ratings have a value. **Note that, although we filled in missing ratings as 0, we should not assume these values to truly be zero. They are just empty entries. As mentioned earlier, ratings are defined from 1 to 5.**"
   ]
  },
  {
   "cell_type": "markdown",
   "metadata": {},
   "source": [
    "# III. Model-based Collaborative Filtering (Matrix Factorization approach)\n",
    "\n",
    "In the Matrix Factorization approach, the idea is to find 2 matrices X and $\\Theta$ such as R ~ X . $\\Theta$.T.  \n",
    "X contains the features of the items. $\\Theta$ contains the features of the users. The idea is to learn latent factors of users (Theta) and latent factors of items (X), so the product of the two can fit the know data.  \n",
    "Matrix factorization algorithm can use stochastic gradient descent algorithm: One way to approach this problem is the first intialize the two matrices with some values, calculate how 'different' their product is to *R*, and then try to minimize this difference iteratively. The gradient descent algorithm aims at finding a local minimum of the difference.  \n",
    "\n",
    "In this example, we will use Non-Negative Matrix Factorization approach, available in the scikit-learn package."
   ]
  },
  {
   "cell_type": "markdown",
   "metadata": {},
   "source": [
    "## 1. Non-Negative Matrix Factorization (NMF, scikit-learn package)\n",
    "\n",
    "Find two non-negative matrices (W, H) whose product approximates the non-negative matrix R.   \n",
    "NOTE: since the values of matrix R MUST be all positive, we CAN'T do mean-centering normalization here (although this would improve the accuracy)."
   ]
  },
  {
   "cell_type": "code",
   "execution_count": 94,
   "metadata": {
    "collapsed": false
   },
   "outputs": [
    {
     "name": "stdout",
     "output_type": "stream",
     "text": [
      "Item features - M: (1682L, 20L)\n",
      "User features - Theta: (943L, 20L)\n",
      "\n",
      "R ~ M * Theta.T:\n",
      "[[ 4.38  2.1   1.3  ...,  0.    0.04  0.05]\n",
      " [ 2.35  0.03  0.02 ...,  0.02  0.    0.  ]\n",
      " [ 0.23  0.    0.11 ...,  0.02  0.    0.  ]\n",
      " ..., \n",
      " [ 1.85  0.05  0.39 ...,  0.    0.    0.  ]\n",
      " [ 1.44  0.03  0.   ...,  0.02  0.    0.  ]\n",
      " [ 1.32  2.24  1.18 ...,  0.    0.04  0.03]]\n",
      "(943L, 1682L)\n"
     ]
    }
   ],
   "source": [
    "from sklearn.decomposition import NMF\n",
    "\n",
    "nmf_model = NMF(n_components=20)     # starts with 20 latents factors\n",
    "\n",
    "# Matrix factorization               # V ~ W.H  (Find two non-negative matrices (W, H) whose product approximates the non- negative matrix X. )\n",
    "nmf_model.fit(R)                     # R can be array-like or sparse, here it is array-like (dense)\n",
    "Theta = nmf_model.transform(R)       # user latent factors (= W, called the features matrix)\n",
    "M = nmf_model.components_.T          # item latent factors (= H.T) (H is called the coefficient matrix)\n",
    "\n",
    "# Making the predictions\n",
    "R_pred = M.dot(Theta.T)              # See http://stackoverflow.com/questions/24739121/nonnegative-matrix-factorization-in-sklearn\n",
    "R_pred = R_pred.T                    # same dimensions as R\n",
    "\n",
    "print 'Item features - M:', M.shape\n",
    "print 'User features - Theta:', Theta.shape\n",
    "print\n",
    "print 'R ~ M * Theta.T:'\n",
    "print R_pred.round(2)\n",
    "print R_pred.shape"
   ]
  },
  {
   "cell_type": "markdown",
   "metadata": {},
   "source": [
    "## 2. Hyperparameter tuning with NMF"
   ]
  },
  {
   "cell_type": "markdown",
   "metadata": {},
   "source": [
    "### 2.1 Load the data set"
   ]
  },
  {
   "cell_type": "code",
   "execution_count": 95,
   "metadata": {
    "collapsed": false
   },
   "outputs": [],
   "source": [
    "def GetShape(filename):\n",
    "    names = ['user_id', 'item_id', 'rating', 'timestamp']\n",
    "    df = pd.read_csv(filename, sep='\\t', names=names)\n",
    "    n_users = len(df['user_id'].unique())\n",
    "    n_items = len(df['item_id'].unique())\n",
    "    return (n_users, n_items)\n",
    "\n",
    "def LoadData(filename, R_shape):\n",
    "    names = ['user_id', 'item_id', 'rating', 'timestamp']\n",
    "    df = pd.read_csv(filename, sep='\\t', names=names)   \n",
    "    X = df[['user_id', 'item_id']].values\n",
    "    y = df['rating'].values   \n",
    "    return X, y, ConvertToDense(X, y, R_shape)\n",
    " \n",
    "R_shape = GetShape('ml-100k/u.data') \n",
    "X, y, R = LoadData('ml-100k/u.data', R_shape)     "
   ]
  },
  {
   "cell_type": "markdown",
   "metadata": {},
   "source": [
    "### 2.2 Split into training and test set"
   ]
  },
  {
   "cell_type": "code",
   "execution_count": 96,
   "metadata": {
    "collapsed": false
   },
   "outputs": [
    {
     "name": "stdout",
     "output_type": "stream",
     "text": [
      "R_train\n",
      "[[0 3 4 ..., 0 0 0]\n",
      " [4 0 0 ..., 0 0 0]\n",
      " [0 0 0 ..., 0 0 0]\n",
      " ..., \n",
      " [0 0 0 ..., 0 0 0]\n",
      " [0 0 0 ..., 0 0 0]\n",
      " [0 0 0 ..., 0 0 0]]\n",
      "(943L, 1682L)\n",
      "\n",
      "R_test\n",
      "[[5 0 0 ..., 0 0 0]\n",
      " [0 0 0 ..., 0 0 0]\n",
      " [0 0 0 ..., 0 0 0]\n",
      " ..., \n",
      " [5 0 0 ..., 0 0 0]\n",
      " [0 0 0 ..., 0 0 0]\n",
      " [0 5 0 ..., 0 0 0]]\n",
      "(943L, 1682L)\n"
     ]
    }
   ],
   "source": [
    "from sklearn.cross_validation import train_test_split\n",
    "\n",
    "X_train, X_test, y_train, y_test = train_test_split(X, y, test_size=0.33)\n",
    "\n",
    "R_train = ConvertToDense(X_train, y_train, R_shape)\n",
    "R_test = ConvertToDense(X_test, y_test, R_shape)\n",
    "\n",
    "print 'R_train'\n",
    "print R_train\n",
    "print R_train.shape\n",
    "print\n",
    "print 'R_test'\n",
    "print R_test\n",
    "print R_test.shape"
   ]
  },
  {
   "cell_type": "markdown",
   "metadata": {},
   "source": [
    "### 2.3 Choose a model: NMF"
   ]
  },
  {
   "cell_type": "code",
   "execution_count": 85,
   "metadata": {
    "collapsed": true
   },
   "outputs": [],
   "source": [
    "from sklearn.decomposition import NMF\n",
    "\n",
    "parametersNMF = {\n",
    "                    'n_components' : 20,     # number of latent factors\n",
    "                    'init' : 'random', \n",
    "                    'random_state' : 0, \n",
    "                    'alpha' : 0.01,          # regularization term\n",
    "                    'l1_ratio' : 0,          # set regularization = L2 \n",
    "                    'max_iter' : 15\n",
    "                }\n",
    "\n",
    "estimator = NMF(**parametersNMF)"
   ]
  },
  {
   "cell_type": "markdown",
   "metadata": {},
   "source": [
    "##### Estimating the error (RMSE) before tuning the hyperparameters"
   ]
  },
  {
   "cell_type": "code",
   "execution_count": 97,
   "metadata": {
    "collapsed": true
   },
   "outputs": [],
   "source": [
    "from sklearn.metrics import mean_squared_error\n",
    "\n",
    "def get_rmse(pred, actual):\n",
    "    pred = pred[actual.nonzero()].flatten()     # Ignore nonzero terms\n",
    "    actual = actual[actual.nonzero()].flatten() # Ignore nonzero terms\n",
    "    return np.sqrt(mean_squared_error(pred, actual))"
   ]
  },
  {
   "cell_type": "code",
   "execution_count": 87,
   "metadata": {
    "collapsed": false
   },
   "outputs": [
    {
     "name": "stdout",
     "output_type": "stream",
     "text": [
      "Fit in 0.549s\n",
      "2.55719035198\n",
      "Fit in 0.532s\n",
      "2.46203612291\n",
      "Fit in 0.517s\n",
      "2.42462591174\n",
      "Fit in 0.531s\n",
      "2.4267105088\n",
      "Fit in 0.717s\n",
      "2.47350616522\n",
      "*** RMSE Error :  2.46881381213\n",
      "Mean number of iterations: 13.6\n"
     ]
    }
   ],
   "source": [
    "err = 0\n",
    "n_iter = 0.\n",
    "n_folds = 5\n",
    "for train_index, test_index in KFold(X.shape[0], n_folds=5):   \n",
    "    \n",
    "    X_train, X_test = X[train_index], X[test_index]\n",
    "    y_train, y_test = y[train_index], y[test_index]\n",
    "    \n",
    "    # Converting sparse array to dense array\n",
    "    R_train = ConvertToDense(X_train, y_train, R_shape)\n",
    "    R_test = ConvertToDense(X_test, y_test, R_shape)\n",
    "\n",
    "    # Training (matrix factorization)\n",
    "    t0 = time.time()\n",
    "    estimator.fit(R_train)  \n",
    "    Theta = estimator.transform(R_train)       # user features\n",
    "    M = estimator.components_.T                # item features\n",
    "    print \"Fit in %0.3fs\" % (time.time() - t0)\n",
    "    n_iter += estimator.n_iter_ \n",
    "\n",
    "    # Making the predictions\n",
    "    R_pred = M.dot(Theta.T)\n",
    "    R_pred = R_pred.T      \n",
    "    \n",
    "    # Clipping values                                                    \n",
    "    R_pred[R_pred > 5] = 5.           # clips ratings above 5             \n",
    "    R_pred[R_pred < 1] = 1.           # clips ratings below 1\n",
    "\n",
    "    # Computing the error on the validation set \n",
    "    err += get_rmse(R_pred, R_test)\n",
    "    print get_rmse(R_pred, R_test)\n",
    "    \n",
    "print \"*** RMSE Error : \", err / n_folds\n",
    "print \"Mean number of iterations:\", n_iter / n_folds"
   ]
  },
  {
   "cell_type": "markdown",
   "metadata": {},
   "source": [
    "### 2.4 Choose cross validation iterator"
   ]
  },
  {
   "cell_type": "code",
   "execution_count": 98,
   "metadata": {
    "collapsed": false
   },
   "outputs": [],
   "source": [
    "from sklearn.cross_validation import ShuffleSplit\n",
    "cv = ShuffleSplit(X_train.shape[0], n_iter=5, test_size=0.33, random_state=0)        # 5-fold scheme"
   ]
  },
  {
   "cell_type": "markdown",
   "metadata": {},
   "source": [
    "### 2.5 Grid Search"
   ]
  },
  {
   "cell_type": "code",
   "execution_count": 386,
   "metadata": {
    "collapsed": false,
    "scrolled": true
   },
   "outputs": [
    {
     "name": "stdout",
     "output_type": "stream",
     "text": [
      "Search 0 / 26\n",
      "[15.0, 0.001, 0.0, 10.0, 2.630870701832047] Mean number of iterations: 9\n",
      "Search 1 / 26\n",
      "[15.0, 0.001, 0.0, 15.0, 2.6293345483256489] Mean number of iterations: 10\n",
      "Search 2 / 26\n",
      "[15.0, 0.001, 0.0, 20.0, 2.6284694197417253] Mean number of iterations: 10\n",
      "Search 3 / 26\n",
      "[15.0, 0.01, 0.0, 10.0, 2.6308881823876371] Mean number of iterations: 9\n",
      "Search 4 / 26\n",
      "[15.0, 0.01, 0.0, 15.0, 2.6293477517784618] Mean number of iterations: 10\n",
      "Search 5 / 26\n",
      "[15.0, 0.01, 0.0, 20.0, 2.6284767438994909] Mean number of iterations: 10\n",
      "Search 6 / 26\n",
      "[15.0, 0.10000000000000001, 0.0, 10.0, 2.6310681703949577] Mean number of iterations: 9\n",
      "Search 7 / 26\n",
      "[15.0, 0.10000000000000001, 0.0, 15.0, 2.6294794987448191] Mean number of iterations: 10\n",
      "Search 8 / 26\n",
      "[15.0, 0.10000000000000001, 0.0, 20.0, 2.6285464641339007] Mean number of iterations: 10\n",
      "Search 9 / 26\n",
      "[20.0, 0.001, 0.0, 10.0, 2.6365694085242573] Mean number of iterations: 9\n",
      "Search 10 / 26\n",
      "[20.0, 0.001, 0.0, 15.0, 2.6382140954909525] Mean number of iterations: 12\n",
      "Search 11 / 26\n",
      "[20.0, 0.001, 0.0, 20.0, 2.6386946499923316] Mean number of iterations: 12\n",
      "Search 12 / 26\n",
      "[20.0, 0.01, 0.0, 10.0, 2.636588337783174] Mean number of iterations: 9\n",
      "Search 13 / 26\n",
      "[20.0, 0.01, 0.0, 15.0, 2.6382310388643377] Mean number of iterations: 12\n",
      "Search 14 / 26\n",
      "[20.0, 0.01, 0.0, 20.0, 2.6387089778305528] Mean number of iterations: 12\n",
      "Search 15 / 26\n",
      "[20.0, 0.10000000000000001, 0.0, 10.0, 2.6367634485720286] Mean number of iterations: 9\n",
      "Search 16 / 26\n",
      "[20.0, 0.10000000000000001, 0.0, 15.0, 2.6383844372239915] Mean number of iterations: 12\n",
      "Search 17 / 26\n",
      "[20.0, 0.10000000000000001, 0.0, 20.0, 2.6388364934711661] Mean number of iterations: 12\n",
      "Search 18 / 26\n",
      "[25.0, 0.001, 0.0, 10.0, 2.6425982597860349] Mean number of iterations: 9\n",
      "Search 19 / 26\n",
      "[25.0, 0.001, 0.0, 15.0, 2.6448215014601031] Mean number of iterations: 12\n",
      "Search 20 / 26\n",
      "[25.0, 0.001, 0.0, 20.0, 2.6454199571773467] Mean number of iterations: 13\n",
      "Search 21 / 26\n",
      "[25.0, 0.01, 0.0, 10.0, 2.6426175394680333] Mean number of iterations: 9\n",
      "Search 22 / 26\n",
      "[25.0, 0.01, 0.0, 15.0, 2.6448378207422696] Mean number of iterations: 12\n",
      "Search 23 / 26\n",
      "[25.0, 0.01, 0.0, 20.0, 2.6454428024528993] Mean number of iterations: 13\n",
      "Search 24 / 26\n",
      "[25.0, 0.10000000000000001, 0.0, 10.0, 2.642819031991265] Mean number of iterations: 9\n",
      "Search 25 / 26\n",
      "[25.0, 0.10000000000000001, 0.0, 15.0, 2.64499819580861] Mean number of iterations: 12\n",
      "Search 26 / 26\n",
      "[25.0, 0.10000000000000001, 0.0, 20.0, 2.6456625810634558] Mean number of iterations: 13\n",
      "*** best params ***\n",
      "   n_components  alpha  l1_ratio  max_iter      RMSE\n",
      "2          15.0  0.001       0.0      20.0  2.628469\n"
     ]
    }
   ],
   "source": [
    "param =        {\n",
    "                    'n_components' : [15, 20, 25],\n",
    "                    'alpha' : [0.001, 0.01, 0.1],\n",
    "                    'l1_ratio' : [0], \n",
    "                    'max_iter' : [15, 20, 25]\n",
    "                }\n",
    "\n",
    "# Keep track of RMSE and parameters\n",
    "grid_search = pd.DataFrame([[0, 0, 0, 0, 0]])\n",
    "grid_search.columns = ['n_components', 'alpha', 'l1_ratio', 'max_iter'] + ['RMSE']\n",
    "\n",
    "# nb of folds in ShuffleSplit CV\n",
    "n_folds = 5      \n",
    "i = 0\n",
    "\n",
    "# Performing the Grid search\n",
    "for n_components in param['n_components']:\n",
    "    for alpha in param['alpha']:\n",
    "        for l1_ratio in param['l1_ratio']:\n",
    "            for max_iter in param['max_iter']:\n",
    "\n",
    "                err = 0\n",
    "                n_iter = 0\n",
    "                print 'Search', i, '/', 3 ** 3 - 1\n",
    "                for train_index, test_index in cv:\n",
    "    \n",
    "                    X_train_cv, X_test_cv = X_train[train_index], X_train[test_index]\n",
    "                    y_train_cv, y_test_cv = y_train[train_index], y_train[test_index]\n",
    "    \n",
    "                    # Converting sparse array to dense array\n",
    "                    R_train = ConvertToDense(X_train_cv, y_train_cv, R_shape)\n",
    "                    R_test = ConvertToDense(X_test_cv, y_test_cv, R_shape)\n",
    "\n",
    "                    # updating the parameters\n",
    "                    parametersNMF = {\n",
    "                    'n_components' : n_components,\n",
    "                    'init' : 'random', \n",
    "                    'random_state' : 0, \n",
    "                    'alpha' : alpha,\n",
    "                    'l1_ratio' : l1_ratio,\n",
    "                    'max_iter' : max_iter}\n",
    "                    estimator = NMF(**parametersNMF)\n",
    "                \n",
    "                    # Training (matrix factorization)\n",
    "                    t0 = time.time()\n",
    "                    estimator.fit(R_train)  \n",
    "                    Theta = estimator.transform(R_train)       # user features\n",
    "                    M = estimator.components_.T                # item features\n",
    "                    #print \"Fit in %0.3fs\" % (time.time() - t0)\n",
    "                    n_iter += estimator.n_iter_ \n",
    "\n",
    "                    # Making the predictions\n",
    "                    R_pred = M.dot(Theta.T).T\n",
    "                    \n",
    "                    # Clipping values                                                    \n",
    "                    R_pred[R_pred > 5] = 5.           # clips ratings above 5             \n",
    "                    R_pred[R_pred < 1] = 1.           # clips ratings below 1\n",
    "\n",
    "                    # Computing the error on the validation set \n",
    "                    err += get_rmse(R_pred, R_test)\n",
    "    \n",
    "                #print \"RMSE Error : \", err / n_folds\n",
    "                grid_search.loc[i] = [n_components, alpha, l1_ratio, max_iter, err / n_folds]\n",
    "                print grid_search.loc[i].tolist(), \"Mean number of iterations:\", n_iter / n_folds\n",
    "                i += 1\n",
    "\n",
    "best_params = grid_search.sort_values('RMSE')[:1]\n",
    "print '*** best params ***'\n",
    "print best_params"
   ]
  },
  {
   "cell_type": "code",
   "execution_count": 99,
   "metadata": {
    "collapsed": true
   },
   "outputs": [],
   "source": [
    "parametersNMF_opt = {\n",
    "                    'n_components' : 20,     # number of latent factors\n",
    "                    'init' : 'random', \n",
    "                    'random_state' : 0, \n",
    "                    'alpha' : 0.01,          # regularization term\n",
    "                    'l1_ratio' : 0,          # set regularization = L2 \n",
    "                    'max_iter' : 15\n",
    "                }"
   ]
  },
  {
   "cell_type": "markdown",
   "metadata": {},
   "source": [
    "### 2.6 Final evaluation on the test set"
   ]
  },
  {
   "cell_type": "code",
   "execution_count": 21,
   "metadata": {
    "collapsed": false
   },
   "outputs": [
    {
     "name": "stdout",
     "output_type": "stream",
     "text": [
      "RMSE test: 2.47350616522\n"
     ]
    }
   ],
   "source": [
    "estimator = NMF(**parametersNMF_opt)\n",
    "                \n",
    "# Training (matrix factorization)\n",
    "estimator.fit(R_train)  \n",
    "Theta = estimator.transform(R_train)       # user features\n",
    "M = estimator.components_.T                # item features\n",
    "\n",
    "# Making the predictions\n",
    "R_pred = M.dot(Theta.T).T\n",
    "                    \n",
    "# Clipping values                                                    \n",
    "R_pred[R_pred > 5] = 5.           # clips ratings above 5             \n",
    "R_pred[R_pred < 1] = 1.           # clips ratings below 1\n",
    "\n",
    "# Computing the error on the test set \n",
    "print 'RMSE test:', get_rmse(R_pred, R_test)"
   ]
  },
  {
   "cell_type": "markdown",
   "metadata": {},
   "source": [
    "### 2.7 Train the final model on whole dataset"
   ]
  },
  {
   "cell_type": "code",
   "execution_count": 22,
   "metadata": {
    "collapsed": true
   },
   "outputs": [],
   "source": [
    "estimator = NMF(**parametersNMF_opt)\n",
    "                \n",
    "# Training (matrix factorization)\n",
    "estimator.fit(R)  \n",
    "Theta = estimator.transform(R)            # user features\n",
    "M = estimator.components_.T               # item features\n",
    "\n",
    "# Making the predictions\n",
    "R_pred = M.dot(Theta.T).T\n",
    "                    \n",
    "# Clipping values                                                    \n",
    "R_pred[R_pred > 5] = 5.           # clips ratings above 5             \n",
    "R_pred[R_pred < 1] = 1.           # clips ratings below 1"
   ]
  },
  {
   "cell_type": "markdown",
   "metadata": {},
   "source": [
    "#### When the predictive model is satisfying, save it to a file¶"
   ]
  },
  {
   "cell_type": "code",
   "execution_count": null,
   "metadata": {
    "collapsed": true
   },
   "outputs": [],
   "source": [
    "import cPickle\n",
    "\n",
    "# Save the trained model to file\n",
    "with open('fittedmodel.cpickle', 'wb') as f:\n",
    "    cPickle.dump(estimator, f)\n",
    "\n",
    "# Load a previously Fitted Regressor....\n",
    "#with open('fittedmodel.cpickle', 'rb') as f:          \n",
    "#    estimator = cPickle.load(f)    \n",
    "    ## ...and merge with a presently Fitted Regressor\n",
    "    ##if MergeImportedWithCurrentTrainedModel == True:\n",
    "        #estimator = estimator.fit(X_train, y_train)    "
   ]
  },
  {
   "cell_type": "markdown",
   "metadata": {},
   "source": [
    "## 3. Making item (movie) recommendations"
   ]
  },
  {
   "cell_type": "markdown",
   "metadata": {},
   "source": [
    "### 3.1 Item recommendation for an active user (given its rating history)\n",
    "\n",
    "Here the recommandations are based on the prediction of the model with the lowest RMSE"
   ]
  },
  {
   "cell_type": "code",
   "execution_count": 26,
   "metadata": {
    "collapsed": false,
    "scrolled": false
   },
   "outputs": [
    {
     "name": "stdout",
     "output_type": "stream",
     "text": [
      "Preferred movies for user # 50\n",
      "     rating  prediction                            title\n",
      "171       5    2.145675  Empire Strikes Back, The (1980)\n",
      "180       5    2.168630        Return of the Jedi (1983)\n",
      "172       5    1.333595       Princess Bride, The (1987)\n",
      "49        5    2.814568                 Star Wars (1977)\n",
      "143       5    1.129017                  Die Hard (1988)\n",
      "Recommended movies for user # 50\n",
      "     rating  prediction                              title\n",
      "173       0    2.269292     Raiders of the Lost Ark (1981)\n",
      "95        0    1.664405  Terminator 2: Judgment Day (1991)\n",
      "194       0    1.603940             Terminator, The (1984)\n",
      "78        0    1.557191               Fugitive, The (1993)\n",
      "182       0    1.342882                       Alien (1979)\n",
      "\n",
      "\n",
      "Preferred movies for user # 130\n",
      "     rating  prediction                        title\n",
      "285       5    2.613741  English Patient, The (1996)\n",
      "312       5    2.006553               Titanic (1997)\n",
      "535       5    1.000000               Ponette (1996)\n",
      "99        5    2.892624                 Fargo (1996)\n",
      "13        5    2.384247           Postino, Il (1994)\n",
      "Recommended movies for user # 130\n",
      "     rating  prediction                      title\n",
      "49        0    2.120264           Star Wars (1977)\n",
      "271       0    1.953646   Good Will Hunting (1997)\n",
      "314       0    1.677900           Apt Pupil (1998)\n",
      "115       0    1.609619   Cold Comfort Farm (1995)\n",
      "180       0    1.589459  Return of the Jedi (1983)\n",
      "\n",
      "\n"
     ]
    }
   ],
   "source": [
    "def make_recommendation_activeuser(R, prediction, user_idx, k=5):\n",
    "    '''\n",
    "    user_idx ...... select an active user\n",
    "    k  ............ number of movies to recommend\n",
    "    '''\n",
    "    rated_items_df_user = pd.DataFrame(R).iloc[user_idx, :]                 # get the list of actual ratings of user_idx (seen movies)\n",
    "    user_prediction_df_user = pd.DataFrame(prediction).iloc[user_idx,:]     # get the list of predicted ratings of user_idx (unseen movies)\n",
    "    reco_df = pd.concat([rated_items_df_user, user_prediction_df_user, item_info], axis=1)   # merge both lists with the movie's title\n",
    "    reco_df.columns = ['rating','prediction','title']\n",
    "\n",
    "    print 'Preferred movies for user #', user_idx\n",
    "    print reco_df.sort_values(by='rating', ascending=False)[:k]             # returns the 5 seen movies with the best actual ratings\n",
    "    print 'Recommended movies for user #', user_idx\n",
    "    reco_df = reco_df[ reco_df['rating'] == 0 ]\n",
    "    print reco_df.sort_values(by='prediction', ascending=False)[:k]         # returns the 5 unseen movies with the best predicted ratings\n",
    "    print\n",
    "    print\n",
    "\n",
    "make_recommendation_activeuser(R, R_pred, user_idx=50, k=5)\n",
    "make_recommendation_activeuser(R, R_pred, user_idx=130, k=5)"
   ]
  },
  {
   "cell_type": "markdown",
   "metadata": {},
   "source": [
    "### 3.2 Item recommendation for a new user (wih rating history)"
   ]
  },
  {
   "cell_type": "code",
   "execution_count": null,
   "metadata": {
    "collapsed": false,
    "scrolled": true
   },
   "outputs": [],
   "source": [
    "# creating a new user profile:\n",
    "my_ratings = np.zeros((1682,1), dtype=int)\n",
    "my_ratings[0] = 4 \n",
    "my_ratings[1] = 4 \n",
    "my_ratings[10] = 1 \n",
    "my_ratings[15] = 3\n",
    "my_ratings[27] = 4\n",
    "my_ratings[34] = 1\n",
    "my_ratings[49] = 1\n",
    "my_ratings[55] = 1\n",
    "my_ratings[61] = 1\n",
    "my_ratings[68] = 5\n",
    "my_ratings[70] = 4\n",
    "my_ratings[81] = 4\n",
    "my_ratings[87] = 2\n",
    "my_ratings[94] = 4\n",
    "my_ratings[120] = 2\n",
    "my_ratings[171] = 1\n",
    "my_ratings[173] = 4\n",
    "my_ratings[175] = 1\n",
    "my_ratings[182] = 1\n",
    "my_ratings[194] = 2\n",
    "my_ratings[203] = 5\n",
    "my_ratings[209] = 5\n",
    "my_ratings[221] = 1\n",
    "my_ratings[234] = 2\n",
    "my_ratings[312] = 3\n",
    "my_ratings[317] = 3\n",
    "my_ratings[322] = 3\n",
    "my_ratings[342] = 1\n",
    "my_ratings[378] = 1\n",
    "my_ratings[379] = 1\n",
    "my_ratings[392] = 3\n",
    "my_ratings[404] = 2\n",
    "my_ratings[422] = 4\n",
    "my_ratings[542] = 4\n",
    "\n",
    "for i in range(len(my_ratings)):\n",
    "    print i, my_ratings[i], item_info.iloc[i]['title']"
   ]
  },
  {
   "cell_type": "code",
   "execution_count": 28,
   "metadata": {
    "collapsed": false
   },
   "outputs": [
    {
     "name": "stdout",
     "output_type": "stream",
     "text": [
      "Preferred movies for user # 943\n",
      "     rating  prediction                                      title\n",
      "209       5    1.361019  Indiana Jones and the Last Crusade (1989)\n",
      "203       5    1.203155                  Back to the Future (1985)\n",
      "68        5    1.271018                        Forrest Gump (1994)\n",
      "0         4    1.540865                           Toy Story (1995)\n",
      "422       4    1.345897          E.T. the Extra-Terrestrial (1982)\n",
      "1         4    1.000000                           GoldenEye (1995)\n",
      "70        4    1.693975                      Lion King, The (1994)\n",
      "81        4    1.456354                       Jurassic Park (1993)\n",
      "94        4    1.617104                             Aladdin (1992)\n",
      "542       4    1.000000                     Mis�rables, Les (1995)\n",
      "Recommended movies for user # 943\n",
      "     rating  prediction                                   title\n",
      "587       0    1.747441             Beauty and the Beast (1991)\n",
      "180       0    1.545142               Return of the Jedi (1983)\n",
      "78        0    1.309956                    Fugitive, The (1993)\n",
      "98        0    1.305182  Snow White and the Seven Dwarfs (1937)\n",
      "21        0    1.247439                       Braveheart (1995)\n",
      "95        0    1.231293       Terminator 2: Judgment Day (1991)\n",
      "417       0    1.186331                       Cinderella (1950)\n",
      "97        0    1.172254        Silence of the Lambs, The (1991)\n",
      "431       0    1.170002                         Fantasia (1940)\n",
      "142       0    1.145061              Sound of Music, The (1965)\n",
      "\n",
      "\n"
     ]
    }
   ],
   "source": [
    "# Adding a new user to the R matrix \n",
    "newR = np.concatenate((R, my_ratings.T))\n",
    "\n",
    "# Recompute the Matrix factorization\n",
    "newTheta = estimator.fit_transform(newR)  \n",
    "newX = estimator.components_.T       \n",
    "\n",
    "# Making the predictions\n",
    "newR_pred = newX.dot(newTheta.T).T\n",
    "\n",
    "# clipping values                                                    \n",
    "newR_pred[newR_pred > R.max()] = R.max()           # clips ratings above 5             \n",
    "newR_pred[newR_pred < R.min() + 1] = R.min() +1    # clips ratings below 1\n",
    "\n",
    "# Making the recommendation\n",
    "make_recommendation_activeuser(newR, newR_pred, user_idx=newR.shape[0]-1, k=10)"
   ]
  },
  {
   "cell_type": "markdown",
   "metadata": {},
   "source": [
    "### 3.3 Item recommendation for a new user (wihout rating history)"
   ]
  },
  {
   "cell_type": "code",
   "execution_count": 30,
   "metadata": {
    "collapsed": false
   },
   "outputs": [
    {
     "name": "stdout",
     "output_type": "stream",
     "text": [
      "Recommended movies for a new user (without rating history), currently looking at movie: GoldenEye (1995)\n",
      "      similarity                              title\n",
      "232     0.993000                 Under Siege (1992)\n",
      "549     0.973123  Die Hard: With a Vengeance (1995)\n",
      "67      0.970855                   Crow, The (1994)\n",
      "28      0.969772              Batman Forever (1995)\n",
      "1187    0.968191               Young Guns II (1990)\n",
      "\n",
      "Recommended movies for a new user (without rating history), currently looking at movie: Muppet Treasure Island (1996)\n",
      "     similarity                                         title\n",
      "472    0.869733              James and the Giant Peach (1996)\n",
      "476    0.804469                                Matilda (1996)\n",
      "102    0.774011                All Dogs Go to Heaven 2 (1996)\n",
      "150    0.763532  Willy Wonka and the Chocolate Factory (1971)\n",
      "595    0.760037           Hunchback of Notre Dame, The (1996)\n",
      "\n",
      "Recommended movies for a new user (without rating history), currently looking at movie: Dumbo (1941)\n",
      "     similarity                                   title\n",
      "98     0.991875  Snow White and the Seven Dwarfs (1937)\n",
      "403    0.991606                        Pinocchio (1940)\n",
      "587    0.986656             Beauty and the Beast (1991)\n",
      "417    0.982961                       Cinderella (1950)\n",
      "419    0.982268              Alice in Wonderland (1951)\n",
      "\n"
     ]
    }
   ],
   "source": [
    "def make_recommendation_newuser(item_sim, item_idx, k=5):\n",
    "    '''\n",
    "    item_idx ...... select an item\n",
    "    k  ............ number of movies to recommend\n",
    "    '''\n",
    "    reco_item_df = pd.DataFrame(item_sim).iloc[item_idx, :] \n",
    "    reco_item_df = pd.concat([reco_item_df, item_info], axis=1)   # merge list with the movie's title\n",
    "    reco_item_df.columns = ['similarity','title']\n",
    "    reco_item_df = reco_item_df.sort_values(by='similarity',ascending=False)\n",
    "\n",
    "    print 'Recommended movies for a new user (without rating history), currently looking at movie:', reco_item_df.iloc[0]['title']\n",
    "    print reco_item_df[1:k+1]           # returns the 5 movies the most similar to item_idx\n",
    "    print\n",
    "\n",
    "from sklearn.metrics.pairwise import cosine_similarity\n",
    "item_sim = cosine_similarity(M)                      # Use item features matrix to compute movie-to-movie similarity matrices\n",
    "make_recommendation_newuser(item_sim, item_idx=1, k=5)\n",
    "make_recommendation_newuser(item_sim, item_idx=20, k=5)\n",
    "make_recommendation_newuser(item_sim, item_idx=500, k=5)"
   ]
  }
 ],
 "metadata": {
  "kernelspec": {
   "display_name": "Python 2",
   "language": "python",
   "name": "python2"
  },
  "language_info": {
   "codemirror_mode": {
    "name": "ipython",
    "version": 2
   },
   "file_extension": ".py",
   "mimetype": "text/x-python",
   "name": "python",
   "nbconvert_exporter": "python",
   "pygments_lexer": "ipython2",
   "version": "2.7.11"
  }
 },
 "nbformat": 4,
 "nbformat_minor": 0
}
